{
  "nbformat": 4,
  "nbformat_minor": 0,
  "metadata": {
    "colab": {
      "provenance": [],
      "authorship_tag": "ABX9TyPIic9lCT0QkZu78cc822Zh",
      "include_colab_link": true
    },
    "kernelspec": {
      "name": "python3",
      "display_name": "Python 3"
    },
    "language_info": {
      "name": "python"
    },
    "widgets": {
      "application/vnd.jupyter.widget-state+json": {
        "8e42abb6501c43f0b33ee2d38dafb953": {
          "model_module": "@jupyter-widgets/controls",
          "model_name": "HBoxModel",
          "model_module_version": "1.5.0",
          "state": {
            "_dom_classes": [],
            "_model_module": "@jupyter-widgets/controls",
            "_model_module_version": "1.5.0",
            "_model_name": "HBoxModel",
            "_view_count": null,
            "_view_module": "@jupyter-widgets/controls",
            "_view_module_version": "1.5.0",
            "_view_name": "HBoxView",
            "box_style": "",
            "children": [
              "IPY_MODEL_5eda51107fcd42da996a07df5239e6a0",
              "IPY_MODEL_aac057380a664b10aa8dcd6663eab0b4",
              "IPY_MODEL_a3ff744c692f4b5182b35dadf5b7b851"
            ],
            "layout": "IPY_MODEL_925a86649f4f4706b2deea4b4a569422"
          }
        },
        "5eda51107fcd42da996a07df5239e6a0": {
          "model_module": "@jupyter-widgets/controls",
          "model_name": "HTMLModel",
          "model_module_version": "1.5.0",
          "state": {
            "_dom_classes": [],
            "_model_module": "@jupyter-widgets/controls",
            "_model_module_version": "1.5.0",
            "_model_name": "HTMLModel",
            "_view_count": null,
            "_view_module": "@jupyter-widgets/controls",
            "_view_module_version": "1.5.0",
            "_view_name": "HTMLView",
            "description": "",
            "description_tooltip": null,
            "layout": "IPY_MODEL_d3146cf3ddab4c3db111f70f9e0048c2",
            "placeholder": "​",
            "style": "IPY_MODEL_2df57572bf6c48a3a024e5da6e8cd2ca",
            "value": "100%"
          }
        },
        "aac057380a664b10aa8dcd6663eab0b4": {
          "model_module": "@jupyter-widgets/controls",
          "model_name": "FloatProgressModel",
          "model_module_version": "1.5.0",
          "state": {
            "_dom_classes": [],
            "_model_module": "@jupyter-widgets/controls",
            "_model_module_version": "1.5.0",
            "_model_name": "FloatProgressModel",
            "_view_count": null,
            "_view_module": "@jupyter-widgets/controls",
            "_view_module_version": "1.5.0",
            "_view_name": "ProgressView",
            "bar_style": "success",
            "description": "",
            "description_tooltip": null,
            "layout": "IPY_MODEL_24afa9b28bfa40c596cc4f08db336b77",
            "max": 170498071,
            "min": 0,
            "orientation": "horizontal",
            "style": "IPY_MODEL_1f8647c4d4ec4819a31367615bd04aa4",
            "value": 170498071
          }
        },
        "a3ff744c692f4b5182b35dadf5b7b851": {
          "model_module": "@jupyter-widgets/controls",
          "model_name": "HTMLModel",
          "model_module_version": "1.5.0",
          "state": {
            "_dom_classes": [],
            "_model_module": "@jupyter-widgets/controls",
            "_model_module_version": "1.5.0",
            "_model_name": "HTMLModel",
            "_view_count": null,
            "_view_module": "@jupyter-widgets/controls",
            "_view_module_version": "1.5.0",
            "_view_name": "HTMLView",
            "description": "",
            "description_tooltip": null,
            "layout": "IPY_MODEL_5848b6b93a9244dda334941be8dbd2ea",
            "placeholder": "​",
            "style": "IPY_MODEL_523caf5d2997475588c23a1687cf7bfb",
            "value": " 170498071/170498071 [00:03&lt;00:00, 37153963.80it/s]"
          }
        },
        "925a86649f4f4706b2deea4b4a569422": {
          "model_module": "@jupyter-widgets/base",
          "model_name": "LayoutModel",
          "model_module_version": "1.2.0",
          "state": {
            "_model_module": "@jupyter-widgets/base",
            "_model_module_version": "1.2.0",
            "_model_name": "LayoutModel",
            "_view_count": null,
            "_view_module": "@jupyter-widgets/base",
            "_view_module_version": "1.2.0",
            "_view_name": "LayoutView",
            "align_content": null,
            "align_items": null,
            "align_self": null,
            "border": null,
            "bottom": null,
            "display": null,
            "flex": null,
            "flex_flow": null,
            "grid_area": null,
            "grid_auto_columns": null,
            "grid_auto_flow": null,
            "grid_auto_rows": null,
            "grid_column": null,
            "grid_gap": null,
            "grid_row": null,
            "grid_template_areas": null,
            "grid_template_columns": null,
            "grid_template_rows": null,
            "height": null,
            "justify_content": null,
            "justify_items": null,
            "left": null,
            "margin": null,
            "max_height": null,
            "max_width": null,
            "min_height": null,
            "min_width": null,
            "object_fit": null,
            "object_position": null,
            "order": null,
            "overflow": null,
            "overflow_x": null,
            "overflow_y": null,
            "padding": null,
            "right": null,
            "top": null,
            "visibility": null,
            "width": null
          }
        },
        "d3146cf3ddab4c3db111f70f9e0048c2": {
          "model_module": "@jupyter-widgets/base",
          "model_name": "LayoutModel",
          "model_module_version": "1.2.0",
          "state": {
            "_model_module": "@jupyter-widgets/base",
            "_model_module_version": "1.2.0",
            "_model_name": "LayoutModel",
            "_view_count": null,
            "_view_module": "@jupyter-widgets/base",
            "_view_module_version": "1.2.0",
            "_view_name": "LayoutView",
            "align_content": null,
            "align_items": null,
            "align_self": null,
            "border": null,
            "bottom": null,
            "display": null,
            "flex": null,
            "flex_flow": null,
            "grid_area": null,
            "grid_auto_columns": null,
            "grid_auto_flow": null,
            "grid_auto_rows": null,
            "grid_column": null,
            "grid_gap": null,
            "grid_row": null,
            "grid_template_areas": null,
            "grid_template_columns": null,
            "grid_template_rows": null,
            "height": null,
            "justify_content": null,
            "justify_items": null,
            "left": null,
            "margin": null,
            "max_height": null,
            "max_width": null,
            "min_height": null,
            "min_width": null,
            "object_fit": null,
            "object_position": null,
            "order": null,
            "overflow": null,
            "overflow_x": null,
            "overflow_y": null,
            "padding": null,
            "right": null,
            "top": null,
            "visibility": null,
            "width": null
          }
        },
        "2df57572bf6c48a3a024e5da6e8cd2ca": {
          "model_module": "@jupyter-widgets/controls",
          "model_name": "DescriptionStyleModel",
          "model_module_version": "1.5.0",
          "state": {
            "_model_module": "@jupyter-widgets/controls",
            "_model_module_version": "1.5.0",
            "_model_name": "DescriptionStyleModel",
            "_view_count": null,
            "_view_module": "@jupyter-widgets/base",
            "_view_module_version": "1.2.0",
            "_view_name": "StyleView",
            "description_width": ""
          }
        },
        "24afa9b28bfa40c596cc4f08db336b77": {
          "model_module": "@jupyter-widgets/base",
          "model_name": "LayoutModel",
          "model_module_version": "1.2.0",
          "state": {
            "_model_module": "@jupyter-widgets/base",
            "_model_module_version": "1.2.0",
            "_model_name": "LayoutModel",
            "_view_count": null,
            "_view_module": "@jupyter-widgets/base",
            "_view_module_version": "1.2.0",
            "_view_name": "LayoutView",
            "align_content": null,
            "align_items": null,
            "align_self": null,
            "border": null,
            "bottom": null,
            "display": null,
            "flex": null,
            "flex_flow": null,
            "grid_area": null,
            "grid_auto_columns": null,
            "grid_auto_flow": null,
            "grid_auto_rows": null,
            "grid_column": null,
            "grid_gap": null,
            "grid_row": null,
            "grid_template_areas": null,
            "grid_template_columns": null,
            "grid_template_rows": null,
            "height": null,
            "justify_content": null,
            "justify_items": null,
            "left": null,
            "margin": null,
            "max_height": null,
            "max_width": null,
            "min_height": null,
            "min_width": null,
            "object_fit": null,
            "object_position": null,
            "order": null,
            "overflow": null,
            "overflow_x": null,
            "overflow_y": null,
            "padding": null,
            "right": null,
            "top": null,
            "visibility": null,
            "width": null
          }
        },
        "1f8647c4d4ec4819a31367615bd04aa4": {
          "model_module": "@jupyter-widgets/controls",
          "model_name": "ProgressStyleModel",
          "model_module_version": "1.5.0",
          "state": {
            "_model_module": "@jupyter-widgets/controls",
            "_model_module_version": "1.5.0",
            "_model_name": "ProgressStyleModel",
            "_view_count": null,
            "_view_module": "@jupyter-widgets/base",
            "_view_module_version": "1.2.0",
            "_view_name": "StyleView",
            "bar_color": null,
            "description_width": ""
          }
        },
        "5848b6b93a9244dda334941be8dbd2ea": {
          "model_module": "@jupyter-widgets/base",
          "model_name": "LayoutModel",
          "model_module_version": "1.2.0",
          "state": {
            "_model_module": "@jupyter-widgets/base",
            "_model_module_version": "1.2.0",
            "_model_name": "LayoutModel",
            "_view_count": null,
            "_view_module": "@jupyter-widgets/base",
            "_view_module_version": "1.2.0",
            "_view_name": "LayoutView",
            "align_content": null,
            "align_items": null,
            "align_self": null,
            "border": null,
            "bottom": null,
            "display": null,
            "flex": null,
            "flex_flow": null,
            "grid_area": null,
            "grid_auto_columns": null,
            "grid_auto_flow": null,
            "grid_auto_rows": null,
            "grid_column": null,
            "grid_gap": null,
            "grid_row": null,
            "grid_template_areas": null,
            "grid_template_columns": null,
            "grid_template_rows": null,
            "height": null,
            "justify_content": null,
            "justify_items": null,
            "left": null,
            "margin": null,
            "max_height": null,
            "max_width": null,
            "min_height": null,
            "min_width": null,
            "object_fit": null,
            "object_position": null,
            "order": null,
            "overflow": null,
            "overflow_x": null,
            "overflow_y": null,
            "padding": null,
            "right": null,
            "top": null,
            "visibility": null,
            "width": null
          }
        },
        "523caf5d2997475588c23a1687cf7bfb": {
          "model_module": "@jupyter-widgets/controls",
          "model_name": "DescriptionStyleModel",
          "model_module_version": "1.5.0",
          "state": {
            "_model_module": "@jupyter-widgets/controls",
            "_model_module_version": "1.5.0",
            "_model_name": "DescriptionStyleModel",
            "_view_count": null,
            "_view_module": "@jupyter-widgets/base",
            "_view_module_version": "1.2.0",
            "_view_name": "StyleView",
            "description_width": ""
          }
        }
      }
    }
  },
  "cells": [
    {
      "cell_type": "markdown",
      "metadata": {
        "id": "view-in-github",
        "colab_type": "text"
      },
      "source": [
        "<a href=\"https://colab.research.google.com/github/MuhammetCanGumussu/DL_Exercises/blob/main/CIFAR10_project_1_MLP.ipynb\" target=\"_parent\"><img src=\"https://colab.research.google.com/assets/colab-badge.svg\" alt=\"Open In Colab\"/></a>"
      ]
    },
    {
      "cell_type": "markdown",
      "source": [
        "##NOTLAR\n",
        "\n",
        "Oluşturulan modelin düzgün çalıştığından emin olmak için eğitimden önce 1 veri veya random bir veri üzerinde çalıştır\n",
        "\n"
      ],
      "metadata": {
        "id": "UEH1qd3SmA8N"
      }
    },
    {
      "cell_type": "code",
      "execution_count": null,
      "metadata": {
        "id": "S864byZJ0VO-"
      },
      "outputs": [],
      "source": [
        "import torch\n",
        "import torchvision\n",
        "import matplotlib.pyplot as plt\n",
        "from PIL import Image"
      ]
    },
    {
      "cell_type": "code",
      "source": [
        "transform = torchvision.transforms.ToTensor()\n",
        "target_transform = torchvision.transforms.Lambda( lambda y: torch.zeros(10, dtype= torch.float).scatter_(0, torch.tensor(y),value= 1) )"
      ],
      "metadata": {
        "id": "1ZGtOQFhaD9l"
      },
      "execution_count": null,
      "outputs": []
    },
    {
      "cell_type": "code",
      "source": [
        "train_dataset= torchvision.datasets.CIFAR10(\n",
        "    root= \"./CIFAR10\",\n",
        "    train= True,\n",
        "    download= True,\n",
        "    transform= torchvision.transforms.ToTensor(),\n",
        "    target_transform= torchvision.transforms.Lambda(\n",
        "                                    lambda y: torch.zeros(10, dtype= torch.float).scatter_(0, torch.tensor(y),value= 1)))"
      ],
      "metadata": {
        "colab": {
          "base_uri": "https://localhost:8080/",
          "height": 84,
          "referenced_widgets": [
            "8e42abb6501c43f0b33ee2d38dafb953",
            "5eda51107fcd42da996a07df5239e6a0",
            "aac057380a664b10aa8dcd6663eab0b4",
            "a3ff744c692f4b5182b35dadf5b7b851",
            "925a86649f4f4706b2deea4b4a569422",
            "d3146cf3ddab4c3db111f70f9e0048c2",
            "2df57572bf6c48a3a024e5da6e8cd2ca",
            "24afa9b28bfa40c596cc4f08db336b77",
            "1f8647c4d4ec4819a31367615bd04aa4",
            "5848b6b93a9244dda334941be8dbd2ea",
            "523caf5d2997475588c23a1687cf7bfb"
          ]
        },
        "id": "xjHuUZ0p3PW6",
        "outputId": "c8044775-2a41-45b4-f766-7cbd72d5b61f"
      },
      "execution_count": null,
      "outputs": [
        {
          "output_type": "stream",
          "name": "stdout",
          "text": [
            "Downloading https://www.cs.toronto.edu/~kriz/cifar-10-python.tar.gz to ./CIFAR10/cifar-10-python.tar.gz\n"
          ]
        },
        {
          "output_type": "display_data",
          "data": {
            "text/plain": [
              "  0%|          | 0/170498071 [00:00<?, ?it/s]"
            ],
            "application/vnd.jupyter.widget-view+json": {
              "version_major": 2,
              "version_minor": 0,
              "model_id": "8e42abb6501c43f0b33ee2d38dafb953"
            }
          },
          "metadata": {}
        },
        {
          "output_type": "stream",
          "name": "stdout",
          "text": [
            "Extracting ./CIFAR10/cifar-10-python.tar.gz to ./CIFAR10\n"
          ]
        }
      ]
    },
    {
      "cell_type": "code",
      "source": [
        "test_dataset= torchvision.datasets.CIFAR10(\n",
        "    root=\"./CIFAR10\",\n",
        "    train= False,\n",
        "    download= True,\n",
        "    transform= torchvision.transforms.ToTensor(),\n",
        "    target_transform= torchvision.transforms.Lambda(\n",
        "                                    lambda y: torch.zeros(10, dtype= torch.float).scatter_(0, torch.tensor(y),value= 1)))"
      ],
      "metadata": {
        "colab": {
          "base_uri": "https://localhost:8080/"
        },
        "id": "2_hKyCwl4RSx",
        "outputId": "2e37568d-3652-4cfe-f475-f9854c5efc73"
      },
      "execution_count": null,
      "outputs": [
        {
          "output_type": "stream",
          "name": "stdout",
          "text": [
            "Files already downloaded and verified\n"
          ]
        }
      ]
    },
    {
      "cell_type": "code",
      "source": [
        "train_dataloader= torch.utils.data.DataLoader(train_dataset, batch_size= 64, shuffle= True)\n",
        "test_dataloader= torch.utils.data.DataLoader(test_dataset, batch_size= 64, shuffle= True)"
      ],
      "metadata": {
        "id": "zbs8jIC3TkLc"
      },
      "execution_count": null,
      "outputs": []
    },
    {
      "cell_type": "code",
      "source": [
        "img_train, label_train= next(iter(train_dataloader))\n",
        "\n",
        "print(f\"train image shape: {img_train.shape}\")\n",
        "print(f\"train label shape: {label_train.shape}\")\n",
        "print(f\"dtype of img_train: {img_train.dtype}\")\n",
        "print(f\"dtype of label_train: {label_train.dtype}\")  "
      ],
      "metadata": {
        "colab": {
          "base_uri": "https://localhost:8080/"
        },
        "id": "_RS1xZBmUY4r",
        "outputId": "9d095e49-18f8-4aae-f4c1-66cfb461a2e7"
      },
      "execution_count": null,
      "outputs": [
        {
          "output_type": "stream",
          "name": "stdout",
          "text": [
            "train image shape: torch.Size([64, 3, 32, 32])\n",
            "train label shape: torch.Size([64, 10])\n",
            "dtype of img_train: torch.float32\n",
            "dtype of label_train: torch.float32\n"
          ]
        }
      ]
    },
    {
      "cell_type": "code",
      "source": [
        "print(f\"number of samples in train_dataset: {len(train_dataset)}\")\n",
        "print(\"-----------------------------------\")\n",
        "print(f\"minibatch size: {train_dataloader.batch_size}\")\n",
        "print(f\"number of minibatch for completing 1 epoc: {len(train_dataloader)}\")"
      ],
      "metadata": {
        "colab": {
          "base_uri": "https://localhost:8080/"
        },
        "id": "QvTQN-1U9dxQ",
        "outputId": "1d499989-d992-4d6f-efcc-de38050126b8"
      },
      "execution_count": null,
      "outputs": [
        {
          "output_type": "stream",
          "name": "stdout",
          "text": [
            "number of samples in train_dataset: 50000\n",
            "-----------------------------------\n",
            "minibatch size: 64\n",
            "number of minibatch for completing 1 epoc: 782\n"
          ]
        }
      ]
    },
    {
      "cell_type": "code",
      "source": [
        "img_test, label_test= next(iter(test_dataloader))\n",
        "\n",
        "print(f\"test image shape: {img_test.shape}\")\n",
        "print(f\"test label shape: {label_test.shape}\")\n",
        "print(f\"dtype of img_train: {img_test.dtype}\")\n",
        "print(f\"dtype of label_train: {label_test.dtype}\")  "
      ],
      "metadata": {
        "colab": {
          "base_uri": "https://localhost:8080/"
        },
        "id": "JcweWpJr9iIR",
        "outputId": "e7a44033-e7bb-49d2-9a7b-bfece69960be"
      },
      "execution_count": null,
      "outputs": [
        {
          "output_type": "stream",
          "name": "stdout",
          "text": [
            "test image shape: torch.Size([64, 3, 32, 32])\n",
            "test label shape: torch.Size([64, 10])\n",
            "dtype of img_train: torch.float32\n",
            "dtype of label_train: torch.float32\n"
          ]
        }
      ]
    },
    {
      "cell_type": "code",
      "source": [
        "print(f\"number of samples in test_dataset: {len(test_dataset)}\")\n",
        "print(\"-----------------------------------\")\n",
        "print(f\"minibatch size: {test_dataloader.batch_size}\")\n",
        "print(f\"number of minibatch for completing 1 epoc: {len(test_dataloader)}\")"
      ],
      "metadata": {
        "colab": {
          "base_uri": "https://localhost:8080/"
        },
        "id": "ydPM-wBaXB4C",
        "outputId": "80de662c-4926-4e3c-c0e6-98d8af4f37a4"
      },
      "execution_count": null,
      "outputs": [
        {
          "output_type": "stream",
          "name": "stdout",
          "text": [
            "number of samples in test_dataset: 10000\n",
            "-----------------------------------\n",
            "minibatch size: 64\n",
            "number of minibatch for completing 1 epoc: 157\n"
          ]
        }
      ]
    },
    {
      "cell_type": "code",
      "source": [
        "labels_map= {\n",
        "    0:\"airplane\",\n",
        "    1:\"automobile\",\n",
        "    2:\"bird\",\n",
        "    3:\"cat\",\n",
        "    4:\"deer\",\n",
        "    5:\"dog\",\n",
        "    6:\"frog\",\n",
        "    7:\"horse\",\n",
        "    8:\"ship\",\n",
        "    9:\"truck\"\n",
        "}"
      ],
      "metadata": {
        "id": "TvHxiFhS5W_P"
      },
      "execution_count": null,
      "outputs": []
    },
    {
      "cell_type": "code",
      "source": [
        "figure = plt.figure(figsize=(8, 8))\n",
        "cols, rows = 3, 3\n",
        "for i in range(1, cols * rows + 1):\n",
        "    sample_idx = torch.randint(len(train_dataset), size=(1,)).item()\n",
        "    img, label = train_dataset[sample_idx]\n",
        "    figure.add_subplot(rows, cols, i)\n",
        "    plt.title(labels_map[torch.argmax(label,dim= 0).item()])\n",
        "    plt.axis(\"off\")\n",
        "    transform= torchvision.transforms.ToPILImage()\n",
        "    img= transform(img)\n",
        "    plt.imshow(img)\n",
        "plt.show()"
      ],
      "metadata": {
        "colab": {
          "base_uri": "https://localhost:8080/",
          "height": 482
        },
        "id": "5ceIK6iH8clt",
        "outputId": "97cfd3c5-424b-471b-8a5f-5dfbb8f85f9d"
      },
      "execution_count": null,
      "outputs": [
        {
          "output_type": "display_data",
          "data": {
            "text/plain": [
              "<Figure size 576x576 with 9 Axes>"
            ],
            "image/png": "[encoded data removed]"
          },
          "metadata": {
            "needs_background": "light"
          }
        }
      ]
    },
    {
      "cell_type": "code",
      "source": [
        "device = \"cuda\" if torch.cuda.is_available() else \"cpu\"\n",
        "print(f\"Using {device} device\")"
      ],
      "metadata": {
        "id": "HJI8vprnS2Hb",
        "colab": {
          "base_uri": "https://localhost:8080/"
        },
        "outputId": "a4a7c49d-5f1a-41bd-ecae-145f9e463060"
      },
      "execution_count": null,
      "outputs": [
        {
          "output_type": "stream",
          "name": "stdout",
          "text": [
            "Using cpu device\n"
          ]
        }
      ]
    },
    {
      "cell_type": "code",
      "source": [
        "#if layers were written inside as sequential, this would be more readable\n",
        "\n",
        "class PlainNeuralNetwork (torch.nn.Module):\n",
        "  def __init__(self):\n",
        "    super(PlainNeuralNetwork,self).__init__()\n",
        "    \n",
        "    self.flatten= torch.nn.Flatten()\n",
        "    self.linear_0= torch.nn.Linear(32*32*3,512)\n",
        "    self.relu_0= torch.nn.ReLU()\n",
        "    self.linear_1= torch.nn.Linear(512, 256)\n",
        "    self.relu_1= torch.nn.ReLU()\n",
        "    self.linear_2= torch.nn.Linear(256, 128)\n",
        "    self.relu_2= torch.nn.ReLU()\n",
        "    self.linear_3= torch.nn.Linear(128, 64)\n",
        "    self.relu_3= torch.nn.ReLU()\n",
        "    self.linear_4= torch.nn.Linear(64, 32)\n",
        "    self.relu_4= torch.nn.ReLU()\n",
        "    self.linear_5= torch.nn.Linear(32,10)\n",
        "  \n",
        "  def forward(self,x):\n",
        "    x= self.flatten(x)\n",
        "    x= self.linear_0(x)\n",
        "    x= self.relu_0(x)\n",
        "    x= self.linear_1(x)\n",
        "    x= self.relu_1(x)\n",
        "    x= self.linear_2(x)\n",
        "    x= self.relu_2(x)\n",
        "    x= self.linear_3(x)\n",
        "    x= self.relu_3(x)\n",
        "    x= self.linear_4(x)\n",
        "    x= self.relu_4(x)\n",
        "    logits= self.linear_5(x)\n",
        "    return logits\n",
        "\n"
      ],
      "metadata": {
        "id": "3fSS8VKg_L2L"
      },
      "execution_count": null,
      "outputs": []
    },
    {
      "cell_type": "code",
      "source": [
        "model= PlainNeuralNetwork()"
      ],
      "metadata": {
        "id": "r4IIsd72C_Z9"
      },
      "execution_count": null,
      "outputs": []
    },
    {
      "cell_type": "code",
      "source": [
        "num_params = sum(param.numel() for param in model.parameters())  #numel : number of elements\n",
        "print(f\"number of model parameters: {num_params:,}\") #formatlamaya dikkat et, baya kullanışlı"
      ],
      "metadata": {
        "colab": {
          "base_uri": "https://localhost:8080/"
        },
        "id": "oXwc7FBuUOVF",
        "outputId": "24d800a0-1391-4d6c-fb89-b4ca644eaeba"
      },
      "execution_count": null,
      "outputs": [
        {
          "output_type": "stream",
          "name": "stdout",
          "text": [
            "number of model parameters: 1,748,266\n"
          ]
        }
      ]
    },
    {
      "cell_type": "code",
      "source": [
        "print(f\"Model structure: {model}\\n\\n\")\n",
        "\n",
        "for name, param in model.named_parameters():\n",
        "  print(f\"Layer: {name} | Size: {param.size()} | Values : {param[:2]} \\n\")"
      ],
      "metadata": {
        "colab": {
          "base_uri": "https://localhost:8080/"
        },
        "id": "qXB05fb4DL12",
        "outputId": "f5bb81e3-d176-4eb1-f2b2-05f0ddb27bad"
      },
      "execution_count": null,
      "outputs": [
        {
          "output_type": "stream",
          "name": "stdout",
          "text": [
            "Model structure: PlainNeuralNetwork(\n",
            "  (flatten): Flatten(start_dim=1, end_dim=-1)\n",
            "  (linear_0): Linear(in_features=3072, out_features=512, bias=True)\n",
            "  (relu_0): ReLU()\n",
            "  (linear_1): Linear(in_features=512, out_features=256, bias=True)\n",
            "  (relu_1): ReLU()\n",
            "  (linear_2): Linear(in_features=256, out_features=128, bias=True)\n",
            "  (relu_2): ReLU()\n",
            "  (linear_3): Linear(in_features=128, out_features=64, bias=True)\n",
            "  (relu_3): ReLU()\n",
            "  (linear_4): Linear(in_features=64, out_features=32, bias=True)\n",
            "  (relu_4): ReLU()\n",
            "  (linear_5): Linear(in_features=32, out_features=10, bias=True)\n",
            ")\n",
            "\n",
            "\n",
            "Layer: linear_0.weight | Size: torch.Size([512, 3072]) | Values : tensor([[-0.0085, -0.0158,  0.0055,  ..., -0.0099, -0.0062,  0.0104],\n",
            "        [-0.0093,  0.0102,  0.0097,  ..., -0.0160,  0.0111, -0.0162]],\n",
            "       grad_fn=<SliceBackward0>) \n",
            "\n",
            "Layer: linear_0.bias | Size: torch.Size([512]) | Values : tensor([-0.0134,  0.0074], grad_fn=<SliceBackward0>) \n",
            "\n",
            "Layer: linear_1.weight | Size: torch.Size([256, 512]) | Values : tensor([[ 0.0413, -0.0279,  0.0281,  ...,  0.0145, -0.0440,  0.0193],\n",
            "        [-0.0100,  0.0013,  0.0028,  ..., -0.0138, -0.0174,  0.0257]],\n",
            "       grad_fn=<SliceBackward0>) \n",
            "\n",
            "Layer: linear_1.bias | Size: torch.Size([256]) | Values : tensor([-0.0071,  0.0119], grad_fn=<SliceBackward0>) \n",
            "\n",
            "Layer: linear_2.weight | Size: torch.Size([128, 256]) | Values : tensor([[ 0.0452,  0.0501,  0.0433,  0.0345, -0.0180, -0.0094,  0.0162, -0.0052,\n",
            "          0.0518,  0.0340, -0.0342, -0.0601, -0.0150, -0.0354,  0.0055, -0.0517,\n",
            "         -0.0452, -0.0149,  0.0190,  0.0393, -0.0368,  0.0022,  0.0470,  0.0358,\n",
            "         -0.0355,  0.0611,  0.0369,  0.0283, -0.0082, -0.0102, -0.0472,  0.0454,\n",
            "         -0.0419, -0.0293,  0.0198,  0.0422, -0.0624,  0.0286,  0.0175,  0.0234,\n",
            "          0.0180,  0.0193,  0.0203,  0.0461,  0.0553,  0.0319,  0.0581, -0.0491,\n",
            "          0.0283,  0.0440,  0.0281,  0.0256, -0.0248,  0.0447, -0.0380, -0.0044,\n",
            "         -0.0468,  0.0324, -0.0367, -0.0343,  0.0418, -0.0321,  0.0258,  0.0139,\n",
            "          0.0023, -0.0068,  0.0155, -0.0301, -0.0208, -0.0470, -0.0621,  0.0016,\n",
            "          0.0132,  0.0151, -0.0271,  0.0387, -0.0003, -0.0508, -0.0449, -0.0113,\n",
            "         -0.0338, -0.0107,  0.0092, -0.0278, -0.0456,  0.0451,  0.0227, -0.0497,\n",
            "          0.0134,  0.0318,  0.0591, -0.0055, -0.0238,  0.0253,  0.0237,  0.0167,\n",
            "          0.0357,  0.0500,  0.0205,  0.0126,  0.0055,  0.0136,  0.0291,  0.0483,\n",
            "         -0.0325, -0.0032, -0.0220, -0.0608, -0.0584, -0.0605,  0.0164,  0.0109,\n",
            "          0.0119,  0.0104,  0.0454, -0.0133,  0.0492, -0.0192,  0.0535, -0.0180,\n",
            "          0.0373,  0.0423,  0.0022,  0.0208,  0.0159, -0.0442,  0.0108,  0.0148,\n",
            "         -0.0263,  0.0234, -0.0240, -0.0147, -0.0063,  0.0515,  0.0014,  0.0554,\n",
            "         -0.0140, -0.0578, -0.0210,  0.0281,  0.0355,  0.0369, -0.0480,  0.0249,\n",
            "         -0.0089, -0.0520, -0.0011,  0.0271, -0.0499, -0.0593, -0.0613,  0.0594,\n",
            "          0.0490, -0.0338, -0.0351, -0.0477,  0.0035, -0.0610,  0.0076,  0.0365,\n",
            "          0.0612, -0.0159,  0.0143, -0.0035,  0.0242,  0.0183, -0.0196,  0.0080,\n",
            "         -0.0087, -0.0171, -0.0263,  0.0354,  0.0484,  0.0535, -0.0167,  0.0211,\n",
            "          0.0530, -0.0547, -0.0426, -0.0270,  0.0493,  0.0449, -0.0247, -0.0275,\n",
            "          0.0407, -0.0461,  0.0379,  0.0278, -0.0097,  0.0231,  0.0158, -0.0040,\n",
            "          0.0520, -0.0197,  0.0070, -0.0469, -0.0596,  0.0018,  0.0066,  0.0601,\n",
            "          0.0020, -0.0316, -0.0164,  0.0592, -0.0453, -0.0524, -0.0282,  0.0088,\n",
            "         -0.0458, -0.0038, -0.0351, -0.0602,  0.0369, -0.0377,  0.0522,  0.0131,\n",
            "          0.0037, -0.0155,  0.0021,  0.0337,  0.0329, -0.0012, -0.0127, -0.0242,\n",
            "         -0.0200,  0.0165,  0.0613,  0.0609,  0.0176,  0.0460,  0.0277,  0.0280,\n",
            "          0.0029,  0.0178, -0.0600, -0.0547, -0.0211,  0.0137,  0.0609,  0.0146,\n",
            "          0.0127, -0.0100, -0.0452, -0.0066, -0.0003, -0.0006,  0.0421, -0.0603,\n",
            "          0.0281, -0.0409,  0.0232, -0.0192, -0.0076,  0.0087, -0.0126,  0.0224],\n",
            "        [ 0.0131, -0.0421,  0.0620,  0.0299, -0.0157,  0.0566, -0.0332,  0.0461,\n",
            "         -0.0259, -0.0610,  0.0498,  0.0582,  0.0027,  0.0500, -0.0298,  0.0375,\n",
            "         -0.0196,  0.0473,  0.0123,  0.0351, -0.0057,  0.0333, -0.0334,  0.0465,\n",
            "         -0.0169,  0.0169, -0.0370, -0.0277,  0.0543, -0.0593,  0.0047, -0.0012,\n",
            "          0.0558,  0.0425, -0.0331, -0.0104, -0.0230, -0.0013,  0.0204, -0.0053,\n",
            "          0.0304, -0.0473, -0.0022,  0.0347, -0.0160, -0.0010,  0.0456, -0.0496,\n",
            "          0.0006, -0.0604, -0.0389, -0.0399,  0.0373,  0.0605, -0.0174,  0.0321,\n",
            "          0.0471,  0.0592,  0.0477, -0.0363, -0.0221, -0.0331,  0.0090,  0.0344,\n",
            "         -0.0115,  0.0327,  0.0434, -0.0591, -0.0150, -0.0051, -0.0583, -0.0515,\n",
            "         -0.0240,  0.0248, -0.0174,  0.0478, -0.0064,  0.0426,  0.0014,  0.0320,\n",
            "         -0.0313,  0.0175, -0.0002,  0.0140,  0.0375,  0.0215,  0.0344, -0.0276,\n",
            "         -0.0069,  0.0194, -0.0592,  0.0475, -0.0392,  0.0514,  0.0499, -0.0197,\n",
            "          0.0418, -0.0447,  0.0167, -0.0143,  0.0396, -0.0050, -0.0595, -0.0392,\n",
            "         -0.0421, -0.0497, -0.0312, -0.0517,  0.0464,  0.0242, -0.0614,  0.0578,\n",
            "          0.0024,  0.0092, -0.0498,  0.0371, -0.0152,  0.0092, -0.0236, -0.0557,\n",
            "         -0.0060,  0.0314,  0.0593, -0.0610,  0.0385, -0.0512, -0.0370, -0.0195,\n",
            "         -0.0535,  0.0421, -0.0101, -0.0517,  0.0277, -0.0235, -0.0290,  0.0367,\n",
            "          0.0462,  0.0302,  0.0413,  0.0017,  0.0232,  0.0558,  0.0073, -0.0034,\n",
            "          0.0268,  0.0580, -0.0449,  0.0196, -0.0019, -0.0273,  0.0314,  0.0336,\n",
            "         -0.0379,  0.0378, -0.0009, -0.0605,  0.0371, -0.0043, -0.0491,  0.0153,\n",
            "         -0.0511, -0.0576, -0.0491, -0.0046,  0.0186, -0.0099,  0.0030,  0.0427,\n",
            "         -0.0377,  0.0118,  0.0064, -0.0387, -0.0022, -0.0091, -0.0364,  0.0612,\n",
            "         -0.0539,  0.0429, -0.0226, -0.0230, -0.0163,  0.0231, -0.0030,  0.0220,\n",
            "          0.0367,  0.0276,  0.0402,  0.0061,  0.0483,  0.0210,  0.0263, -0.0494,\n",
            "         -0.0246, -0.0132,  0.0625,  0.0007, -0.0073,  0.0281,  0.0556,  0.0491,\n",
            "         -0.0178,  0.0515,  0.0152, -0.0587,  0.0012,  0.0426, -0.0428,  0.0525,\n",
            "         -0.0334,  0.0521,  0.0235, -0.0466,  0.0404,  0.0122, -0.0623, -0.0474,\n",
            "          0.0060, -0.0522,  0.0054,  0.0140, -0.0590, -0.0173,  0.0544, -0.0442,\n",
            "         -0.0077, -0.0288, -0.0595,  0.0524, -0.0031,  0.0387,  0.0345, -0.0532,\n",
            "          0.0083, -0.0114,  0.0138, -0.0377,  0.0610,  0.0411,  0.0574, -0.0452,\n",
            "         -0.0502, -0.0450,  0.0049, -0.0313, -0.0304, -0.0622,  0.0507, -0.0385,\n",
            "         -0.0263,  0.0033,  0.0265, -0.0486,  0.0349,  0.0133, -0.0102, -0.0327]],\n",
            "       grad_fn=<SliceBackward0>) \n",
            "\n",
            "Layer: linear_2.bias | Size: torch.Size([128]) | Values : tensor([-0.0130,  0.0212], grad_fn=<SliceBackward0>) \n",
            "\n",
            "Layer: linear_3.weight | Size: torch.Size([64, 128]) | Values : tensor([[-0.0166,  0.0304,  0.0548,  0.0181, -0.0759, -0.0142, -0.0499,  0.0311,\n",
            "          0.0691, -0.0442, -0.0746, -0.0844, -0.0512,  0.0223,  0.0457,  0.0830,\n",
            "         -0.0517, -0.0028,  0.0471, -0.0377, -0.0318, -0.0799,  0.0849, -0.0293,\n",
            "         -0.0666,  0.0804, -0.0129,  0.0271,  0.0416,  0.0782, -0.0837,  0.0283,\n",
            "         -0.0244,  0.0527,  0.0756, -0.0421, -0.0805,  0.0040, -0.0815,  0.0177,\n",
            "          0.0335, -0.0726,  0.0723, -0.0225,  0.0707,  0.0197, -0.0603, -0.0037,\n",
            "          0.0565,  0.0146,  0.0073,  0.0466, -0.0166,  0.0608, -0.0829,  0.0257,\n",
            "          0.0339,  0.0738, -0.0569,  0.0840,  0.0799, -0.0843, -0.0869, -0.0137,\n",
            "         -0.0637,  0.0441,  0.0810,  0.0215, -0.0147, -0.0558,  0.0129,  0.0525,\n",
            "         -0.0566, -0.0423, -0.0334,  0.0433,  0.0587, -0.0128, -0.0079,  0.0199,\n",
            "          0.0075,  0.0264,  0.0492,  0.0804,  0.0340,  0.0306, -0.0022, -0.0023,\n",
            "          0.0625,  0.0861, -0.0075, -0.0459,  0.0519, -0.0463,  0.0235, -0.0627,\n",
            "         -0.0341, -0.0788, -0.0274,  0.0008,  0.0098,  0.0079, -0.0016,  0.0335,\n",
            "          0.0860, -0.0741,  0.0869, -0.0391, -0.0167, -0.0365, -0.0197,  0.0687,\n",
            "          0.0375,  0.0847, -0.0161,  0.0401, -0.0619,  0.0851, -0.0286, -0.0712,\n",
            "         -0.0142,  0.0391,  0.0053,  0.0274,  0.0113,  0.0397, -0.0844, -0.0330],\n",
            "        [-0.0791,  0.0217, -0.0190, -0.0115, -0.0562,  0.0092, -0.0107,  0.0570,\n",
            "         -0.0292, -0.0633, -0.0281,  0.0667, -0.0630, -0.0131, -0.0014,  0.0771,\n",
            "         -0.0164,  0.0041,  0.0304, -0.0455,  0.0014,  0.0791, -0.0627, -0.0081,\n",
            "         -0.0499, -0.0036, -0.0633, -0.0388,  0.0824,  0.0293, -0.0680, -0.0265,\n",
            "         -0.0390, -0.0211, -0.0873, -0.0813,  0.0556,  0.0786,  0.0612, -0.0326,\n",
            "         -0.0048,  0.0713,  0.0823,  0.0485,  0.0677, -0.0690, -0.0097,  0.0170,\n",
            "         -0.0299, -0.0550,  0.0538,  0.0204, -0.0506, -0.0219, -0.0310, -0.0572,\n",
            "         -0.0224, -0.0253,  0.0537, -0.0025,  0.0580, -0.0305, -0.0186,  0.0308,\n",
            "         -0.0699, -0.0292, -0.0085, -0.0766, -0.0500,  0.0661, -0.0617, -0.0855,\n",
            "         -0.0859,  0.0775, -0.0144, -0.0111,  0.0233, -0.0388,  0.0076, -0.0112,\n",
            "         -0.0303, -0.0322, -0.0413, -0.0206,  0.0127,  0.0608,  0.0261,  0.0286,\n",
            "          0.0609,  0.0298, -0.0771,  0.0708,  0.0288, -0.0637,  0.0390,  0.0349,\n",
            "         -0.0766, -0.0172,  0.0868,  0.0487, -0.0199,  0.0263, -0.0317, -0.0180,\n",
            "         -0.0731, -0.0429, -0.0268,  0.0018, -0.0173,  0.0624,  0.0696,  0.0536,\n",
            "          0.0049,  0.0814, -0.0354,  0.0781, -0.0671, -0.0534,  0.0810, -0.0179,\n",
            "          0.0700, -0.0532, -0.0463,  0.0528,  0.0386, -0.0129, -0.0176,  0.0594]],\n",
            "       grad_fn=<SliceBackward0>) \n",
            "\n",
            "Layer: linear_3.bias | Size: torch.Size([64]) | Values : tensor([-0.0873,  0.0371], grad_fn=<SliceBackward0>) \n",
            "\n",
            "Layer: linear_4.weight | Size: torch.Size([32, 64]) | Values : tensor([[-0.1097,  0.1194,  0.0823, -0.1044,  0.0707, -0.0611,  0.0999, -0.0151,\n",
            "         -0.0428,  0.0132, -0.0526, -0.0292, -0.0346,  0.0308,  0.0189,  0.0945,\n",
            "          0.0161,  0.0364,  0.0631,  0.1154, -0.0508,  0.0421, -0.0456, -0.0866,\n",
            "         -0.1221,  0.0920,  0.0237, -0.1024,  0.0646,  0.0615, -0.0834, -0.0088,\n",
            "          0.0746,  0.0954, -0.0740, -0.0018,  0.0636,  0.0280, -0.0605,  0.0655,\n",
            "          0.0776,  0.1148,  0.0898, -0.0013,  0.0098,  0.0710,  0.0063, -0.0070,\n",
            "         -0.0083, -0.0947, -0.0256,  0.0156,  0.0944, -0.0648, -0.0143,  0.0407,\n",
            "         -0.0359,  0.0840, -0.0653,  0.1146, -0.0232,  0.0052,  0.0061,  0.0126],\n",
            "        [-0.0031,  0.0900,  0.1237,  0.0571, -0.0949, -0.0631, -0.0577,  0.0226,\n",
            "          0.0811, -0.1191, -0.0495, -0.0660,  0.0073,  0.0872, -0.0172,  0.0458,\n",
            "          0.1241,  0.0645,  0.0193, -0.0872, -0.0052,  0.0325, -0.0851,  0.0104,\n",
            "         -0.1241,  0.0506,  0.1089, -0.1105,  0.0070,  0.0008, -0.0177,  0.0092,\n",
            "          0.0132, -0.1081, -0.0541,  0.0891,  0.0711, -0.0718, -0.0627, -0.0500,\n",
            "         -0.0775,  0.0110,  0.0875,  0.0092, -0.0747, -0.0193, -0.0691,  0.0441,\n",
            "         -0.1128, -0.1241, -0.1101, -0.0423,  0.0684, -0.0911, -0.0751, -0.0629,\n",
            "          0.0413,  0.1043,  0.0589, -0.0298,  0.0167,  0.0593,  0.0892, -0.0222]],\n",
            "       grad_fn=<SliceBackward0>) \n",
            "\n",
            "Layer: linear_4.bias | Size: torch.Size([32]) | Values : tensor([-0.0913,  0.0259], grad_fn=<SliceBackward0>) \n",
            "\n",
            "Layer: linear_5.weight | Size: torch.Size([10, 32]) | Values : tensor([[ 0.1743, -0.1070,  0.1046,  0.0102,  0.1714, -0.1698, -0.1409, -0.0011,\n",
            "         -0.0053,  0.1702,  0.0931, -0.1565, -0.0181,  0.0522, -0.1376,  0.0309,\n",
            "         -0.1137,  0.0782,  0.0123,  0.0621, -0.0928, -0.1084,  0.0537, -0.1127,\n",
            "         -0.0364,  0.1290, -0.0238, -0.1119,  0.1210,  0.0732,  0.0286, -0.1042],\n",
            "        [ 0.0595,  0.1467, -0.0481,  0.0886,  0.0756, -0.1343, -0.0788, -0.1240,\n",
            "          0.0395,  0.1124,  0.1542, -0.1203, -0.0439,  0.0862, -0.0468, -0.0683,\n",
            "         -0.1138,  0.1353,  0.0141,  0.0760, -0.1690, -0.0993, -0.1093,  0.0636,\n",
            "          0.1539,  0.1704, -0.1388,  0.0907,  0.0584, -0.0626,  0.0202,  0.1719]],\n",
            "       grad_fn=<SliceBackward0>) \n",
            "\n",
            "Layer: linear_5.bias | Size: torch.Size([10]) | Values : tensor([-0.1008, -0.0876], grad_fn=<SliceBackward0>) \n",
            "\n"
          ]
        }
      ]
    },
    {
      "cell_type": "code",
      "source": [
        "learning_rate= 1e-3\n",
        "momentum= 0.9\n",
        "epochs=20"
      ],
      "metadata": {
        "id": "cgSadT8hE0FZ"
      },
      "execution_count": null,
      "outputs": []
    },
    {
      "cell_type": "code",
      "source": [
        "#next(iter(model.parameters()))  #gives us parameter matrix of first layer "
      ],
      "metadata": {
        "id": "oGU55nPJGntC"
      },
      "execution_count": null,
      "outputs": []
    },
    {
      "cell_type": "code",
      "source": [
        "loss_fn= torch.nn.CrossEntropyLoss()\n",
        "optimizer= torch.optim.SGD(params= model.parameters(), lr= learning_rate, momentum= momentum)"
      ],
      "metadata": {
        "id": "ay7l6Op2F5nP"
      },
      "execution_count": null,
      "outputs": []
    },
    {
      "cell_type": "code",
      "source": [
        "X,y= next(iter(test_dataloader))\n",
        "y.shape\n",
        "y.argmax(1)"
      ],
      "metadata": {
        "colab": {
          "base_uri": "https://localhost:8080/"
        },
        "id": "xWEp8md_Sgc6",
        "outputId": "df48be4b-7cbe-41ed-9ff3-670c5bfdfe06"
      },
      "execution_count": null,
      "outputs": [
        {
          "output_type": "execute_result",
          "data": {
            "text/plain": [
              "tensor([1, 5, 4, 9, 0, 3, 6, 3, 0, 3, 6, 2, 1, 6, 8, 7, 8, 6, 4, 6, 8, 2, 7, 4,\n",
              "        0, 5, 2, 9, 7, 5, 4, 7, 7, 5, 7, 2, 6, 7, 9, 9, 0, 4, 6, 5, 2, 1, 9, 2,\n",
              "        4, 0, 0, 4, 2, 3, 6, 9, 9, 8, 5, 7, 9, 7, 3, 7])"
            ]
          },
          "metadata": {},
          "execution_count": 20
        }
      ]
    },
    {
      "cell_type": "code",
      "source": [
        "pred=model(X)\n",
        "pred.argmax(1)"
      ],
      "metadata": {
        "colab": {
          "base_uri": "https://localhost:8080/"
        },
        "id": "vjFJzLRkS6_B",
        "outputId": "6d9cfa8a-4b34-44d5-cbed-67cfd6d39173"
      },
      "execution_count": null,
      "outputs": [
        {
          "output_type": "execute_result",
          "data": {
            "text/plain": [
              "tensor([5, 5, 5, 5, 5, 5, 5, 5, 5, 5, 5, 5, 5, 5, 5, 5, 5, 5, 5, 5, 5, 5, 5, 5,\n",
              "        5, 5, 5, 5, 5, 5, 5, 5, 5, 5, 5, 5, 5, 5, 5, 5, 5, 5, 5, 5, 5, 5, 5, 5,\n",
              "        5, 5, 5, 5, 5, 5, 5, 5, 5, 5, 5, 5, 5, 5, 5, 5])"
            ]
          },
          "metadata": {},
          "execution_count": 21
        }
      ]
    },
    {
      "cell_type": "code",
      "source": [
        "def trainLoop(train_dataloader, loss_fn, model, optimizer):\n",
        "  \n",
        "  size= len(train_dataloader.dataset)\n",
        "  \n",
        "  for batch, (X,y) in enumerate(train_dataloader):\n",
        "    \n",
        "    pred= model(X)\n",
        "    loss= loss_fn(pred, y)\n",
        "\n",
        "    optimizer.zero_grad()\n",
        "    loss.backward()\n",
        "    optimizer.step()\n",
        "\n",
        "    if batch % 100 == 0:\n",
        "      loss, current= loss.item(), batch * len(X)\n",
        "      print(f\"loss: {loss:>2f}  [{current:>5d}/{size:>5d}]\")\n",
        "\n",
        "\n",
        "def testLoop(test_dataloader, loss_fn, model):\n",
        "\n",
        "    size = len(test_dataloader.dataset)\n",
        "    num_batches = len(test_dataloader)\n",
        "    test_loss, correct = 0, 0\n",
        "\n",
        "    with torch.no_grad():\n",
        "        for X, y in test_dataloader:\n",
        "            pred = model(X)\n",
        "            test_loss += loss_fn(pred, y).item()\n",
        "            correct += (pred.argmax(1) == y.argmax(1)).type(torch.float).sum().item()  #do not forget!, our prediction has batch dim\n",
        "\n",
        "    test_loss /= num_batches\n",
        "    correct /= size\n",
        "    print(f\"Test Error: \\n Accuracy: {(100*correct):>0.1f}%, Avg loss: {test_loss:>8f} \\n\")\n",
        "\n"
      ],
      "metadata": {
        "id": "_re_Gn39GE3D"
      },
      "execution_count": null,
      "outputs": []
    },
    {
      "cell_type": "code",
      "source": [
        "for t in range(epochs):\n",
        "    print(f\"Epoch {t+1}\\n\\n-------------------------------\")\n",
        "    trainLoop(train_dataloader, loss_fn, model, optimizer)\n",
        "    testLoop(test_dataloader,loss_fn, model)\n",
        "print(\"Done!\")"
      ],
      "metadata": {
        "colab": {
          "base_uri": "https://localhost:8080/"
        },
        "id": "b1m3B-W3GIST",
        "outputId": "0414a375-0eb1-48e6-8598-7273fc1ede71"
      },
      "execution_count": null,
      "outputs": [
        {
          "output_type": "stream",
          "name": "stdout",
          "text": [
            "Epoch 1\n",
            "\n",
            "-------------------------------\n",
            "loss: 2.330146  [    0/50000]\n",
            "loss: 2.317857  [ 6400/50000]\n",
            "loss: 2.305564  [12800/50000]\n",
            "loss: 2.301467  [19200/50000]\n",
            "loss: 2.318914  [25600/50000]\n",
            "loss: 2.301960  [32000/50000]\n",
            "loss: 2.301231  [38400/50000]\n",
            "loss: 2.305448  [44800/50000]\n",
            "Test Error: \n",
            " Accuracy: 10.9%, Avg loss: 2.299028 \n",
            "\n",
            "Epoch 2\n",
            "\n",
            "-------------------------------\n",
            "loss: 2.301977  [    0/50000]\n",
            "loss: 2.299908  [ 6400/50000]\n",
            "loss: 2.297113  [12800/50000]\n",
            "loss: 2.295216  [19200/50000]\n",
            "loss: 2.302999  [25600/50000]\n",
            "loss: 2.295479  [32000/50000]\n",
            "loss: 2.283506  [38400/50000]\n",
            "loss: 2.287849  [44800/50000]\n",
            "Test Error: \n",
            " Accuracy: 15.3%, Avg loss: 2.284126 \n",
            "\n",
            "Epoch 3\n",
            "\n",
            "-------------------------------\n",
            "loss: 2.287045  [    0/50000]\n",
            "loss: 2.280183  [ 6400/50000]\n",
            "loss: 2.268280  [12800/50000]\n",
            "loss: 2.267710  [19200/50000]\n",
            "loss: 2.216352  [25600/50000]\n",
            "loss: 2.204858  [32000/50000]\n",
            "loss: 2.250725  [38400/50000]\n",
            "loss: 2.155344  [44800/50000]\n",
            "Test Error: \n",
            " Accuracy: 17.1%, Avg loss: 2.106087 \n",
            "\n",
            "Epoch 4\n",
            "\n",
            "-------------------------------\n",
            "loss: 2.049830  [    0/50000]\n",
            "loss: 2.056619  [ 6400/50000]\n",
            "loss: 2.052542  [12800/50000]\n",
            "loss: 2.038481  [19200/50000]\n",
            "loss: 2.065564  [25600/50000]\n",
            "loss: 2.109412  [32000/50000]\n",
            "loss: 2.050378  [38400/50000]\n",
            "loss: 2.090759  [44800/50000]\n",
            "Test Error: \n",
            " Accuracy: 20.2%, Avg loss: 2.042189 \n",
            "\n",
            "Epoch 5\n",
            "\n",
            "-------------------------------\n",
            "loss: 2.054958  [    0/50000]\n",
            "loss: 1.942032  [ 6400/50000]\n",
            "loss: 1.932300  [12800/50000]\n",
            "loss: 2.033482  [19200/50000]\n",
            "loss: 1.874726  [25600/50000]\n",
            "loss: 2.026681  [32000/50000]\n",
            "loss: 2.040854  [38400/50000]\n",
            "loss: 2.064366  [44800/50000]\n",
            "Test Error: \n",
            " Accuracy: 21.2%, Avg loss: 2.016006 \n",
            "\n",
            "Epoch 6\n",
            "\n",
            "-------------------------------\n",
            "loss: 2.129674  [    0/50000]\n",
            "loss: 2.012749  [ 6400/50000]\n",
            "loss: 1.997278  [12800/50000]\n",
            "loss: 2.059165  [19200/50000]\n",
            "loss: 1.973366  [25600/50000]\n",
            "loss: 2.090549  [32000/50000]\n",
            "loss: 1.987664  [38400/50000]\n",
            "loss: 2.001617  [44800/50000]\n",
            "Test Error: \n",
            " Accuracy: 24.1%, Avg loss: 2.007032 \n",
            "\n",
            "Epoch 7\n",
            "\n",
            "-------------------------------\n",
            "loss: 2.007993  [    0/50000]\n",
            "loss: 1.893820  [ 6400/50000]\n",
            "loss: 1.892138  [12800/50000]\n",
            "loss: 1.968362  [19200/50000]\n",
            "loss: 1.933856  [25600/50000]\n",
            "loss: 1.930372  [32000/50000]\n",
            "loss: 1.911052  [38400/50000]\n",
            "loss: 1.859278  [44800/50000]\n",
            "Test Error: \n",
            " Accuracy: 27.8%, Avg loss: 1.907287 \n",
            "\n",
            "Epoch 8\n",
            "\n",
            "-------------------------------\n",
            "loss: 1.980392  [    0/50000]\n",
            "loss: 1.849001  [ 6400/50000]\n",
            "loss: 1.849050  [12800/50000]\n",
            "loss: 1.831207  [19200/50000]\n",
            "loss: 1.827451  [25600/50000]\n",
            "loss: 1.861434  [32000/50000]\n",
            "loss: 1.832890  [38400/50000]\n",
            "loss: 1.801331  [44800/50000]\n",
            "Test Error: \n",
            " Accuracy: 30.6%, Avg loss: 1.851599 \n",
            "\n",
            "Epoch 9\n",
            "\n",
            "-------------------------------\n",
            "loss: 1.778498  [    0/50000]\n",
            "loss: 1.773054  [ 6400/50000]\n",
            "loss: 1.758359  [12800/50000]\n",
            "loss: 1.881410  [19200/50000]\n",
            "loss: 2.109518  [25600/50000]\n",
            "loss: 1.982346  [32000/50000]\n",
            "loss: 2.000536  [38400/50000]\n",
            "loss: 1.829941  [44800/50000]\n",
            "Test Error: \n",
            " Accuracy: 31.6%, Avg loss: 1.850857 \n",
            "\n",
            "Epoch 10\n",
            "\n",
            "-------------------------------\n",
            "loss: 1.842885  [    0/50000]\n",
            "loss: 1.785137  [ 6400/50000]\n",
            "loss: 1.823282  [12800/50000]\n",
            "loss: 2.008083  [19200/50000]\n",
            "loss: 1.819519  [25600/50000]\n",
            "loss: 1.760719  [32000/50000]\n",
            "loss: 1.709908  [38400/50000]\n",
            "loss: 1.917119  [44800/50000]\n",
            "Test Error: \n",
            " Accuracy: 34.9%, Avg loss: 1.774235 \n",
            "\n",
            "Epoch 11\n",
            "\n",
            "-------------------------------\n",
            "loss: 1.771359  [    0/50000]\n",
            "loss: 1.579821  [ 6400/50000]\n",
            "loss: 1.759282  [12800/50000]\n",
            "loss: 1.807526  [19200/50000]\n",
            "loss: 1.742390  [25600/50000]\n",
            "loss: 1.610230  [32000/50000]\n",
            "loss: 1.719655  [38400/50000]\n",
            "loss: 1.812786  [44800/50000]\n",
            "Test Error: \n",
            " Accuracy: 36.5%, Avg loss: 1.714842 \n",
            "\n",
            "Epoch 12\n",
            "\n",
            "-------------------------------\n",
            "loss: 1.593576  [    0/50000]\n",
            "loss: 1.641399  [ 6400/50000]\n",
            "loss: 1.702793  [12800/50000]\n",
            "loss: 1.948850  [19200/50000]\n",
            "loss: 1.666641  [25600/50000]\n",
            "loss: 1.649986  [32000/50000]\n",
            "loss: 1.791320  [38400/50000]\n",
            "loss: 1.659692  [44800/50000]\n",
            "Test Error: \n",
            " Accuracy: 38.1%, Avg loss: 1.679965 \n",
            "\n",
            "Epoch 13\n",
            "\n",
            "-------------------------------\n",
            "loss: 1.642207  [    0/50000]\n",
            "loss: 1.638713  [ 6400/50000]\n",
            "loss: 1.685462  [12800/50000]\n",
            "loss: 1.665701  [19200/50000]\n",
            "loss: 1.425378  [25600/50000]\n",
            "loss: 1.865787  [32000/50000]\n",
            "loss: 1.644512  [38400/50000]\n",
            "loss: 1.599450  [44800/50000]\n",
            "Test Error: \n",
            " Accuracy: 39.5%, Avg loss: 1.640363 \n",
            "\n",
            "Epoch 14\n",
            "\n",
            "-------------------------------\n",
            "loss: 1.408995  [    0/50000]\n",
            "loss: 1.595829  [ 6400/50000]\n",
            "loss: 1.827826  [12800/50000]\n",
            "loss: 1.590890  [19200/50000]\n",
            "loss: 1.486905  [25600/50000]\n",
            "loss: 1.933647  [32000/50000]\n",
            "loss: 1.770782  [38400/50000]\n",
            "loss: 1.472254  [44800/50000]\n",
            "Test Error: \n",
            " Accuracy: 37.9%, Avg loss: 1.692133 \n",
            "\n",
            "Epoch 15\n",
            "\n",
            "-------------------------------\n",
            "loss: 1.646847  [    0/50000]\n",
            "loss: 1.466523  [ 6400/50000]\n",
            "loss: 1.730639  [12800/50000]\n",
            "loss: 1.681196  [19200/50000]\n",
            "loss: 1.810958  [25600/50000]\n",
            "loss: 1.526245  [32000/50000]\n",
            "loss: 1.756772  [38400/50000]\n",
            "loss: 1.761910  [44800/50000]\n",
            "Test Error: \n",
            " Accuracy: 42.3%, Avg loss: 1.584272 \n",
            "\n",
            "Epoch 16\n",
            "\n",
            "-------------------------------\n",
            "loss: 1.436484  [    0/50000]\n",
            "loss: 1.479704  [ 6400/50000]\n",
            "loss: 1.739256  [12800/50000]\n",
            "loss: 1.442848  [19200/50000]\n",
            "loss: 1.557417  [25600/50000]\n",
            "loss: 1.694870  [32000/50000]\n",
            "loss: 1.742638  [38400/50000]\n",
            "loss: 1.579875  [44800/50000]\n",
            "Test Error: \n",
            " Accuracy: 43.0%, Avg loss: 1.569306 \n",
            "\n",
            "Epoch 17\n",
            "\n",
            "-------------------------------\n",
            "loss: 1.631608  [    0/50000]\n",
            "loss: 1.618328  [ 6400/50000]\n",
            "loss: 1.844502  [12800/50000]\n",
            "loss: 1.641901  [19200/50000]\n",
            "loss: 1.416987  [25600/50000]\n",
            "loss: 1.393244  [32000/50000]\n",
            "loss: 1.638283  [38400/50000]\n",
            "loss: 1.494312  [44800/50000]\n",
            "Test Error: \n",
            " Accuracy: 42.3%, Avg loss: 1.611307 \n",
            "\n",
            "Epoch 18\n",
            "\n",
            "-------------------------------\n",
            "loss: 1.458537  [    0/50000]\n",
            "loss: 1.438105  [ 6400/50000]\n",
            "loss: 1.414967  [12800/50000]\n",
            "loss: 1.792305  [19200/50000]\n",
            "loss: 1.351077  [25600/50000]\n",
            "loss: 1.791090  [32000/50000]\n",
            "loss: 1.703013  [38400/50000]\n",
            "loss: 1.513662  [44800/50000]\n",
            "Test Error: \n",
            " Accuracy: 43.7%, Avg loss: 1.557993 \n",
            "\n",
            "Epoch 19\n",
            "\n",
            "-------------------------------\n",
            "loss: 1.414814  [    0/50000]\n",
            "loss: 1.422953  [ 6400/50000]\n",
            "loss: 1.452115  [12800/50000]\n",
            "loss: 1.449906  [19200/50000]\n",
            "loss: 1.306377  [25600/50000]\n",
            "loss: 1.409025  [32000/50000]\n",
            "loss: 1.556022  [38400/50000]\n",
            "loss: 1.704991  [44800/50000]\n",
            "Test Error: \n",
            " Accuracy: 45.1%, Avg loss: 1.537225 \n",
            "\n",
            "Epoch 20\n",
            "\n",
            "-------------------------------\n",
            "loss: 1.606994  [    0/50000]\n",
            "loss: 1.578723  [ 6400/50000]\n",
            "loss: 1.443114  [12800/50000]\n",
            "loss: 1.563766  [19200/50000]\n",
            "loss: 1.715016  [25600/50000]\n",
            "loss: 1.413023  [32000/50000]\n",
            "loss: 1.420422  [38400/50000]\n",
            "loss: 1.388820  [44800/50000]\n",
            "Test Error: \n",
            " Accuracy: 46.9%, Avg loss: 1.468600 \n",
            "\n",
            "Done!\n"
          ]
        }
      ]
    },
    {
      "cell_type": "code",
      "source": [
        "#2nd epoch (20 epoch eğitilen model ile devam)\n",
        "#lr küçültülebilirdi\n",
        "epochs_2=20\n",
        "for t in range(epochs_2):\n",
        "    print(f\"Epoch {t+1}\\n\\n-------------------------------\")\n",
        "    trainLoop(train_dataloader, loss_fn, model, optimizer)\n",
        "    testLoop(test_dataloader,loss_fn, model)\n",
        "print(\"Done!\")"
      ],
      "metadata": {
        "colab": {
          "base_uri": "https://localhost:8080/"
        },
        "id": "Hi-VoGZecEv-",
        "outputId": "a643ef43-511d-49e5-94d7-8f19f3d78e0d"
      },
      "execution_count": null,
      "outputs": [
        {
          "output_type": "stream",
          "name": "stdout",
          "text": [
            "Epoch 1\n",
            "\n",
            "-------------------------------\n",
            "loss: 1.317287  [    0/50000]\n",
            "loss: 1.561680  [ 6400/50000]\n",
            "loss: 1.364206  [12800/50000]\n",
            "loss: 1.264673  [19200/50000]\n",
            "loss: 1.362093  [25600/50000]\n",
            "loss: 1.523495  [32000/50000]\n",
            "loss: 1.632414  [38400/50000]\n",
            "loss: 1.644129  [44800/50000]\n",
            "Test Error: \n",
            " Accuracy: 46.1%, Avg loss: 1.495110 \n",
            "\n",
            "Epoch 2\n",
            "\n",
            "-------------------------------\n",
            "loss: 1.437151  [    0/50000]\n",
            "loss: 1.784070  [ 6400/50000]\n",
            "loss: 1.272101  [12800/50000]\n",
            "loss: 1.346640  [19200/50000]\n",
            "loss: 1.536019  [25600/50000]\n",
            "loss: 1.494601  [32000/50000]\n",
            "loss: 1.437601  [38400/50000]\n",
            "loss: 1.383750  [44800/50000]\n",
            "Test Error: \n",
            " Accuracy: 46.1%, Avg loss: 1.488068 \n",
            "\n",
            "Epoch 3\n",
            "\n",
            "-------------------------------\n",
            "loss: 1.365330  [    0/50000]\n",
            "loss: 1.509377  [ 6400/50000]\n",
            "loss: 1.543646  [12800/50000]\n",
            "loss: 1.232648  [19200/50000]\n",
            "loss: 1.371740  [25600/50000]\n",
            "loss: 1.329811  [32000/50000]\n",
            "loss: 1.339659  [38400/50000]\n",
            "loss: 1.428676  [44800/50000]\n",
            "Test Error: \n",
            " Accuracy: 48.2%, Avg loss: 1.433794 \n",
            "\n",
            "Epoch 4\n",
            "\n",
            "-------------------------------\n",
            "loss: 1.249016  [    0/50000]\n",
            "loss: 1.335545  [ 6400/50000]\n",
            "loss: 1.514121  [12800/50000]\n",
            "loss: 1.303829  [19200/50000]\n",
            "loss: 1.229472  [25600/50000]\n",
            "loss: 1.468627  [32000/50000]\n",
            "loss: 1.393884  [38400/50000]\n",
            "loss: 1.125949  [44800/50000]\n",
            "Test Error: \n",
            " Accuracy: 48.5%, Avg loss: 1.426293 \n",
            "\n",
            "Epoch 5\n",
            "\n",
            "-------------------------------\n",
            "loss: 1.467934  [    0/50000]\n",
            "loss: 1.197857  [ 6400/50000]\n",
            "loss: 1.312599  [12800/50000]\n",
            "loss: 1.252111  [19200/50000]\n",
            "loss: 1.161619  [25600/50000]\n",
            "loss: 1.303404  [32000/50000]\n",
            "loss: 1.355787  [38400/50000]\n",
            "loss: 1.367955  [44800/50000]\n",
            "Test Error: \n",
            " Accuracy: 49.1%, Avg loss: 1.410664 \n",
            "\n",
            "Epoch 6\n",
            "\n",
            "-------------------------------\n",
            "loss: 1.294881  [    0/50000]\n",
            "loss: 1.742963  [ 6400/50000]\n",
            "loss: 1.425250  [12800/50000]\n",
            "loss: 1.586629  [19200/50000]\n",
            "loss: 1.392242  [25600/50000]\n",
            "loss: 1.223118  [32000/50000]\n",
            "loss: 1.248671  [38400/50000]\n",
            "loss: 1.272263  [44800/50000]\n",
            "Test Error: \n",
            " Accuracy: 49.6%, Avg loss: 1.405900 \n",
            "\n",
            "Epoch 7\n",
            "\n",
            "-------------------------------\n",
            "loss: 1.509128  [    0/50000]\n",
            "loss: 1.297052  [ 6400/50000]\n",
            "loss: 1.269040  [12800/50000]\n",
            "loss: 1.352027  [19200/50000]\n",
            "loss: 1.220613  [25600/50000]\n",
            "loss: 1.276915  [32000/50000]\n",
            "loss: 1.208113  [38400/50000]\n",
            "loss: 1.344210  [44800/50000]\n",
            "Test Error: \n",
            " Accuracy: 48.7%, Avg loss: 1.467446 \n",
            "\n",
            "Epoch 8\n",
            "\n",
            "-------------------------------\n",
            "loss: 1.264558  [    0/50000]\n",
            "loss: 1.141823  [ 6400/50000]\n",
            "loss: 1.377193  [12800/50000]\n",
            "loss: 1.230651  [19200/50000]\n",
            "loss: 1.138518  [25600/50000]\n",
            "loss: 1.424115  [32000/50000]\n",
            "loss: 1.371055  [38400/50000]\n",
            "loss: 1.293025  [44800/50000]\n",
            "Test Error: \n",
            " Accuracy: 49.5%, Avg loss: 1.404296 \n",
            "\n",
            "Epoch 9\n",
            "\n",
            "-------------------------------\n",
            "loss: 1.243262  [    0/50000]\n",
            "loss: 1.198850  [ 6400/50000]\n",
            "loss: 1.211244  [12800/50000]\n",
            "loss: 1.401361  [19200/50000]\n",
            "loss: 1.195543  [25600/50000]\n",
            "loss: 1.152542  [32000/50000]\n",
            "loss: 1.568427  [38400/50000]\n",
            "loss: 1.713910  [44800/50000]\n",
            "Test Error: \n",
            " Accuracy: 50.3%, Avg loss: 1.399821 \n",
            "\n",
            "Epoch 10\n",
            "\n",
            "-------------------------------\n",
            "loss: 1.362975  [    0/50000]\n",
            "loss: 1.465352  [ 6400/50000]\n",
            "loss: 1.466350  [12800/50000]\n",
            "loss: 1.166750  [19200/50000]\n",
            "loss: 1.523208  [25600/50000]\n",
            "loss: 1.537526  [32000/50000]\n",
            "loss: 1.249767  [38400/50000]\n",
            "loss: 1.277508  [44800/50000]\n",
            "Test Error: \n",
            " Accuracy: 49.8%, Avg loss: 1.416274 \n",
            "\n",
            "Epoch 11\n",
            "\n",
            "-------------------------------\n",
            "loss: 1.353585  [    0/50000]\n",
            "loss: 1.374374  [ 6400/50000]\n",
            "loss: 1.181777  [12800/50000]\n",
            "loss: 1.432728  [19200/50000]\n",
            "loss: 1.153956  [25600/50000]\n",
            "loss: 1.160343  [32000/50000]\n",
            "loss: 1.237304  [38400/50000]\n",
            "loss: 1.418940  [44800/50000]\n",
            "Test Error: \n",
            " Accuracy: 51.0%, Avg loss: 1.363644 \n",
            "\n",
            "Epoch 12\n",
            "\n",
            "-------------------------------\n",
            "loss: 1.159324  [    0/50000]\n",
            "loss: 1.203024  [ 6400/50000]\n",
            "loss: 1.036397  [12800/50000]\n",
            "loss: 1.480896  [19200/50000]\n",
            "loss: 1.190819  [25600/50000]\n",
            "loss: 1.253479  [32000/50000]\n",
            "loss: 1.199031  [38400/50000]\n",
            "loss: 1.049829  [44800/50000]\n",
            "Test Error: \n",
            " Accuracy: 50.4%, Avg loss: 1.401650 \n",
            "\n",
            "Epoch 13\n",
            "\n",
            "-------------------------------\n",
            "loss: 1.143658  [    0/50000]\n",
            "loss: 1.068524  [ 6400/50000]\n",
            "loss: 1.311476  [12800/50000]\n",
            "loss: 1.178878  [19200/50000]\n",
            "loss: 1.211672  [25600/50000]\n",
            "loss: 1.065461  [32000/50000]\n",
            "loss: 1.178366  [38400/50000]\n",
            "loss: 1.105574  [44800/50000]\n",
            "Test Error: \n",
            " Accuracy: 51.9%, Avg loss: 1.367627 \n",
            "\n",
            "Epoch 14\n",
            "\n",
            "-------------------------------\n",
            "loss: 1.221404  [    0/50000]\n",
            "loss: 1.236673  [ 6400/50000]\n",
            "loss: 1.260579  [12800/50000]\n",
            "loss: 1.222499  [19200/50000]\n",
            "loss: 1.020994  [25600/50000]\n",
            "loss: 1.295480  [32000/50000]\n",
            "loss: 1.348445  [38400/50000]\n",
            "loss: 1.435964  [44800/50000]\n",
            "Test Error: \n",
            " Accuracy: 48.9%, Avg loss: 1.420996 \n",
            "\n",
            "Epoch 15\n",
            "\n",
            "-------------------------------\n",
            "loss: 1.219828  [    0/50000]\n",
            "loss: 1.048307  [ 6400/50000]\n",
            "loss: 1.096450  [12800/50000]\n",
            "loss: 1.017918  [19200/50000]\n",
            "loss: 1.197809  [25600/50000]\n",
            "loss: 1.338459  [32000/50000]\n",
            "loss: 1.267047  [38400/50000]\n",
            "loss: 1.470300  [44800/50000]\n",
            "Test Error: \n",
            " Accuracy: 51.7%, Avg loss: 1.373724 \n",
            "\n",
            "Epoch 16\n",
            "\n",
            "-------------------------------\n",
            "loss: 1.330460  [    0/50000]\n",
            "loss: 1.054191  [ 6400/50000]\n",
            "loss: 1.239578  [12800/50000]\n",
            "loss: 1.353361  [19200/50000]\n",
            "loss: 1.016334  [25600/50000]\n",
            "loss: 0.902843  [32000/50000]\n",
            "loss: 1.237720  [38400/50000]\n",
            "loss: 1.173118  [44800/50000]\n",
            "Test Error: \n",
            " Accuracy: 52.2%, Avg loss: 1.367577 \n",
            "\n",
            "Epoch 17\n",
            "\n",
            "-------------------------------\n",
            "loss: 1.131546  [    0/50000]\n",
            "loss: 1.141866  [ 6400/50000]\n",
            "loss: 1.260533  [12800/50000]\n",
            "loss: 1.051663  [19200/50000]\n",
            "loss: 0.983020  [25600/50000]\n",
            "loss: 1.087042  [32000/50000]\n",
            "loss: 1.184182  [38400/50000]\n",
            "loss: 1.042485  [44800/50000]\n",
            "Test Error: \n",
            " Accuracy: 51.2%, Avg loss: 1.400958 \n",
            "\n",
            "Epoch 18\n",
            "\n",
            "-------------------------------\n",
            "loss: 0.934534  [    0/50000]\n",
            "loss: 0.925057  [ 6400/50000]\n",
            "loss: 1.106629  [12800/50000]\n",
            "loss: 1.273724  [19200/50000]\n",
            "loss: 1.079313  [25600/50000]\n",
            "loss: 1.298842  [32000/50000]\n",
            "loss: 0.925524  [38400/50000]\n",
            "loss: 0.887678  [44800/50000]\n",
            "Test Error: \n",
            " Accuracy: 48.9%, Avg loss: 1.471458 \n",
            "\n",
            "Epoch 19\n",
            "\n",
            "-------------------------------\n",
            "loss: 1.146669  [    0/50000]\n",
            "loss: 1.236359  [ 6400/50000]\n",
            "loss: 1.110031  [12800/50000]\n",
            "loss: 1.362171  [19200/50000]\n",
            "loss: 1.180403  [25600/50000]\n",
            "loss: 0.862357  [32000/50000]\n",
            "loss: 1.078678  [38400/50000]\n",
            "loss: 1.265699  [44800/50000]\n",
            "Test Error: \n",
            " Accuracy: 53.5%, Avg loss: 1.349636 \n",
            "\n",
            "Epoch 20\n",
            "\n",
            "-------------------------------\n",
            "loss: 0.991059  [    0/50000]\n",
            "loss: 0.914493  [ 6400/50000]\n",
            "loss: 1.207075  [12800/50000]\n",
            "loss: 0.900734  [19200/50000]\n",
            "loss: 1.156453  [25600/50000]\n",
            "loss: 1.239969  [32000/50000]\n",
            "loss: 1.171055  [38400/50000]\n",
            "loss: 0.980065  [44800/50000]\n",
            "Test Error: \n",
            " Accuracy: 51.7%, Avg loss: 1.387988 \n",
            "\n",
            "Done!\n"
          ]
        }
      ]
    },
    {
      "cell_type": "code",
      "source": [
        "\n",
        "for g in optimizer.param_groups:\n",
        "    g['lr'] = 0.01"
      ],
      "metadata": {
        "id": "poyzFPB3eTc9"
      },
      "execution_count": null,
      "outputs": []
    },
    {
      "cell_type": "code",
      "source": [
        "#2nd epoch (20 epoch eğitilen model ile devam)\n",
        "#lr küçültüldü\n",
        "\n",
        "epochs_3=30\n",
        "for t in range(epochs_3):\n",
        "    print(f\"Epoch {t+1}\\n\\n-------------------------------\")\n",
        "    trainLoop(train_dataloader, loss_fn, model, optimizer)\n",
        "    testLoop(test_dataloader,loss_fn, model)\n",
        "print(\"Done!\")"
      ],
      "metadata": {
        "id": "F1bIzhoId5Th"
      },
      "execution_count": null,
      "outputs": []
    },
    {
      "cell_type": "code",
      "source": [
        "\n",
        "epochs_3=15\n",
        "for t in range(epochs_3):\n",
        "    print(f\"Epoch {t+1}\\n\\n-------------------------------\")\n",
        "    trainLoop(train_dataloader, loss_fn, model, optimizer)\n",
        "    testLoop(test_dataloader,loss_fn, model)\n",
        "print(\"Done!\")"
      ],
      "metadata": {
        "colab": {
          "base_uri": "https://localhost:8080/"
        },
        "id": "_6d1waLwpkwX",
        "outputId": "17648dc9-a17a-4d8c-e465-10fc9d22bb30"
      },
      "execution_count": null,
      "outputs": [
        {
          "output_type": "stream",
          "name": "stdout",
          "text": [
            "Epoch 1\n",
            "\n",
            "-------------------------------\n",
            "loss: 0.514156  [    0/50000]\n",
            "loss: 0.415063  [ 6400/50000]\n",
            "loss: 0.617169  [12800/50000]\n",
            "loss: 0.632262  [19200/50000]\n",
            "loss: 0.821093  [25600/50000]\n",
            "loss: 0.702885  [32000/50000]\n",
            "loss: 0.727054  [38400/50000]\n",
            "loss: 0.839220  [44800/50000]\n",
            "Test Error: \n",
            " Accuracy: 51.7%, Avg loss: 1.625218 \n",
            "\n",
            "Epoch 2\n",
            "\n",
            "-------------------------------\n",
            "loss: 0.568440  [    0/50000]\n",
            "loss: 0.522891  [ 6400/50000]\n",
            "loss: 0.484212  [12800/50000]\n",
            "loss: 0.592688  [19200/50000]\n",
            "loss: 0.656333  [25600/50000]\n",
            "loss: 0.744885  [32000/50000]\n",
            "loss: 0.686439  [38400/50000]\n",
            "loss: 0.838469  [44800/50000]\n",
            "Test Error: \n",
            " Accuracy: 53.6%, Avg loss: 1.631818 \n",
            "\n",
            "Epoch 3\n",
            "\n",
            "-------------------------------\n",
            "loss: 0.555198  [    0/50000]\n",
            "loss: 0.705684  [ 6400/50000]\n",
            "loss: 0.529464  [12800/50000]\n",
            "loss: 0.665837  [19200/50000]\n",
            "loss: 0.683541  [25600/50000]\n",
            "loss: 0.622385  [32000/50000]\n",
            "loss: 0.647114  [38400/50000]\n",
            "loss: 0.712586  [44800/50000]\n",
            "Test Error: \n",
            " Accuracy: 53.3%, Avg loss: 1.694302 \n",
            "\n",
            "Epoch 4\n",
            "\n",
            "-------------------------------\n",
            "loss: 0.679917  [    0/50000]\n",
            "loss: 0.648470  [ 6400/50000]\n",
            "loss: 0.667845  [12800/50000]\n",
            "loss: 0.624454  [19200/50000]\n",
            "loss: 0.836780  [25600/50000]\n",
            "loss: 0.589642  [32000/50000]\n",
            "loss: 0.465167  [38400/50000]\n",
            "loss: 0.852943  [44800/50000]\n",
            "Test Error: \n",
            " Accuracy: 53.3%, Avg loss: 1.649748 \n",
            "\n",
            "Epoch 5\n",
            "\n",
            "-------------------------------\n",
            "loss: 0.499247  [    0/50000]\n",
            "loss: 0.508480  [ 6400/50000]\n",
            "loss: 0.804154  [12800/50000]\n",
            "loss: 0.745000  [19200/50000]\n",
            "loss: 0.532059  [25600/50000]\n",
            "loss: 0.668073  [32000/50000]\n",
            "loss: 0.710647  [38400/50000]\n",
            "loss: 0.682340  [44800/50000]\n",
            "Test Error: \n",
            " Accuracy: 53.0%, Avg loss: 1.766286 \n",
            "\n",
            "Epoch 6\n",
            "\n",
            "-------------------------------\n",
            "loss: 0.560621  [    0/50000]\n",
            "loss: 0.691691  [ 6400/50000]\n",
            "loss: 0.495644  [12800/50000]\n",
            "loss: 0.715061  [19200/50000]\n",
            "loss: 0.752041  [25600/50000]\n",
            "loss: 0.844774  [32000/50000]\n",
            "loss: 0.581326  [38400/50000]\n",
            "loss: 0.568348  [44800/50000]\n",
            "Test Error: \n",
            " Accuracy: 52.3%, Avg loss: 1.777800 \n",
            "\n",
            "Epoch 7\n",
            "\n",
            "-------------------------------\n",
            "loss: 0.503966  [    0/50000]\n",
            "loss: 0.585687  [ 6400/50000]\n",
            "loss: 0.623470  [12800/50000]\n",
            "loss: 0.533328  [19200/50000]\n",
            "loss: 0.647957  [25600/50000]\n",
            "loss: 0.558507  [32000/50000]\n",
            "loss: 0.923887  [38400/50000]\n",
            "loss: 0.760922  [44800/50000]\n",
            "Test Error: \n",
            " Accuracy: 53.1%, Avg loss: 1.684462 \n",
            "\n",
            "Epoch 8\n",
            "\n",
            "-------------------------------\n",
            "loss: 0.659396  [    0/50000]\n",
            "loss: 0.632402  [ 6400/50000]\n",
            "loss: 0.808872  [12800/50000]\n",
            "loss: 0.648831  [19200/50000]\n",
            "loss: 0.579626  [25600/50000]\n",
            "loss: 0.588934  [32000/50000]\n",
            "loss: 0.741836  [38400/50000]\n",
            "loss: 0.577972  [44800/50000]\n",
            "Test Error: \n",
            " Accuracy: 53.0%, Avg loss: 1.715777 \n",
            "\n",
            "Epoch 9\n",
            "\n",
            "-------------------------------\n",
            "loss: 0.670063  [    0/50000]\n",
            "loss: 0.443352  [ 6400/50000]\n",
            "loss: 0.636697  [12800/50000]\n",
            "loss: 0.523962  [19200/50000]\n",
            "loss: 0.695943  [25600/50000]\n",
            "loss: 0.613046  [32000/50000]\n",
            "loss: 0.606343  [38400/50000]\n",
            "loss: 0.733729  [44800/50000]\n",
            "Test Error: \n",
            " Accuracy: 53.9%, Avg loss: 1.741085 \n",
            "\n",
            "Epoch 10\n",
            "\n",
            "-------------------------------\n",
            "loss: 0.505098  [    0/50000]\n",
            "loss: 0.621546  [ 6400/50000]\n",
            "loss: 0.601023  [12800/50000]\n",
            "loss: 0.601011  [19200/50000]\n",
            "loss: 0.573231  [25600/50000]\n",
            "loss: 0.682553  [32000/50000]\n",
            "loss: 0.814729  [38400/50000]\n",
            "loss: 0.652108  [44800/50000]\n",
            "Test Error: \n",
            " Accuracy: 53.8%, Avg loss: 1.759807 \n",
            "\n",
            "Epoch 11\n",
            "\n",
            "-------------------------------\n",
            "loss: 0.545898  [    0/50000]\n",
            "loss: 0.645845  [ 6400/50000]\n",
            "loss: 0.675457  [12800/50000]\n",
            "loss: 0.608494  [19200/50000]\n",
            "loss: 0.490593  [25600/50000]\n",
            "loss: 0.645810  [32000/50000]\n",
            "loss: 0.898171  [38400/50000]\n",
            "loss: 0.496206  [44800/50000]\n",
            "Test Error: \n",
            " Accuracy: 52.5%, Avg loss: 1.877056 \n",
            "\n",
            "Epoch 12\n",
            "\n",
            "-------------------------------\n",
            "loss: 0.496363  [    0/50000]\n",
            "loss: 0.472217  [ 6400/50000]\n",
            "loss: 0.626798  [12800/50000]\n",
            "loss: 0.431245  [19200/50000]\n",
            "loss: 0.706239  [25600/50000]\n",
            "loss: 0.633267  [32000/50000]\n",
            "loss: 0.574883  [38400/50000]\n",
            "loss: 0.812934  [44800/50000]\n",
            "Test Error: \n",
            " Accuracy: 53.1%, Avg loss: 1.804225 \n",
            "\n",
            "Epoch 13\n",
            "\n",
            "-------------------------------\n",
            "loss: 0.545864  [    0/50000]\n",
            "loss: 0.566642  [ 6400/50000]\n",
            "loss: 0.630860  [12800/50000]\n",
            "loss: 0.491718  [19200/50000]\n",
            "loss: 0.691481  [25600/50000]\n",
            "loss: 0.419659  [32000/50000]\n",
            "loss: 0.599015  [38400/50000]\n",
            "loss: 0.600337  [44800/50000]\n",
            "Test Error: \n",
            " Accuracy: 52.4%, Avg loss: 1.866559 \n",
            "\n",
            "Epoch 14\n",
            "\n",
            "-------------------------------\n",
            "loss: 0.476293  [    0/50000]\n",
            "loss: 0.577146  [ 6400/50000]\n",
            "loss: 0.506845  [12800/50000]\n",
            "loss: 0.608418  [19200/50000]\n",
            "loss: 0.606203  [25600/50000]\n",
            "loss: 0.509313  [32000/50000]\n",
            "loss: 0.443135  [38400/50000]\n",
            "loss: 0.499806  [44800/50000]\n",
            "Test Error: \n",
            " Accuracy: 52.4%, Avg loss: 1.801499 \n",
            "\n",
            "Epoch 15\n",
            "\n",
            "-------------------------------\n",
            "loss: 0.483061  [    0/50000]\n",
            "loss: 0.520368  [ 6400/50000]\n",
            "loss: 0.360679  [12800/50000]\n",
            "loss: 0.691114  [19200/50000]\n",
            "loss: 0.668439  [25600/50000]\n",
            "loss: 0.692411  [32000/50000]\n",
            "loss: 0.720731  [38400/50000]\n",
            "loss: 0.601177  [44800/50000]\n",
            "Test Error: \n",
            " Accuracy: 53.4%, Avg loss: 1.962078 \n",
            "\n",
            "Done!\n"
          ]
        }
      ]
    },
    {
      "cell_type": "code",
      "source": [
        "#eğitilen modeli görseller ile dene\n",
        "#kaç tane parametre var bastır\n",
        "#cnn mimarisi ile de çalış"
      ],
      "metadata": {
        "id": "sqOVIhmhOb-r"
      },
      "execution_count": null,
      "outputs": []
    },
    {
      "cell_type": "code",
      "source": [
        "image, label =next(iter(test_dataloader))\n",
        "image[0].shape\n",
        "den=torch.unsqueeze(image[0],dim=0)\n",
        "den.shape\n",
        "pred=model(den)\n",
        "print(pred)\n",
        "torch.argmax(pred,dim= 1).item()"
      ],
      "metadata": {
        "colab": {
          "base_uri": "https://localhost:8080/"
        },
        "id": "Gcx4wmQyv-J9",
        "outputId": "f7d7f67c-01e2-4cd0-9be4-dd5d2be61420"
      },
      "execution_count": null,
      "outputs": [
        {
          "output_type": "stream",
          "name": "stdout",
          "text": [
            "tensor([[  5.8705,  19.9694,  -0.4534,  -6.4833,  -2.2111, -13.8285,  -7.9357,\n",
            "          -8.3047,  10.1686,   5.9741]], grad_fn=<AddmmBackward0>)\n"
          ]
        },
        {
          "output_type": "execute_result",
          "data": {
            "text/plain": [
              "1"
            ]
          },
          "metadata": {},
          "execution_count": 77
        }
      ]
    },
    {
      "cell_type": "code",
      "source": [
        "figure = plt.figure(figsize=(8, 8))\n",
        "cols, rows = 3, 3\n",
        "for i in range(1, cols * rows + 1):\n",
        "    sample_idx= torch.randint(64, size=(1,)).item()\n",
        "    img, label= next(iter(test_dataloader))\n",
        "    img= torch.unsqueeze(img[sample_idx],dim=0)\n",
        "    label= label[sample_idx]\n",
        "    print(label.shape)\n",
        "    figure.add_subplot(rows, cols, i)\n",
        "    #plt.title( str(\"label: \")+labels_map[torch.argmax(label, dim= 0).item()]+str(\" prediction: \")+str(labels_map[torch.argmax(model(img), dim= 1).item()]))\n",
        "    plt.title( labels_map[torch.argmax(label, dim= 0).item()]+str(\" \")+str(labels_map[torch.argmax(model(img), dim= 1).item()]))\n",
        "    plt.axis(\"off\")\n",
        "    transform= torchvision.transforms.ToPILImage()\n",
        "    img=torch.squeeze(img,dim=0)\n",
        "    print(img.shape)\n",
        "    img= transform(img)\n",
        "    plt.imshow(img)\n",
        "plt.show()"
      ],
      "metadata": {
        "colab": {
          "base_uri": "https://localhost:8080/",
          "height": 795
        },
        "id": "GqXz8gCpXDiu",
        "outputId": "1a3501fd-831a-4b32-b13c-5e2c88fa5201"
      },
      "execution_count": null,
      "outputs": [
        {
          "output_type": "stream",
          "name": "stdout",
          "text": [
            "torch.Size([10])\n",
            "torch.Size([3, 32, 32])\n",
            "torch.Size([10])\n",
            "torch.Size([3, 32, 32])\n",
            "torch.Size([10])\n",
            "torch.Size([3, 32, 32])\n",
            "torch.Size([10])\n",
            "torch.Size([3, 32, 32])\n",
            "torch.Size([10])\n",
            "torch.Size([3, 32, 32])\n",
            "torch.Size([10])\n",
            "torch.Size([3, 32, 32])\n",
            "torch.Size([10])\n",
            "torch.Size([3, 32, 32])\n",
            "torch.Size([10])\n",
            "torch.Size([3, 32, 32])\n",
            "torch.Size([10])\n",
            "torch.Size([3, 32, 32])\n"
          ]
        },
        {
          "output_type": "display_data",
          "data": {
            "text/plain": [
              "<Figure size 576x576 with 9 Axes>"
            ],
            "image/png": "[encoded data removed]"
          },
          "metadata": {
            "needs_background": "light"
          }
        }
      ]
    },
    {
      "cell_type": "code",
      "source": [],
      "metadata": {
        "id": "tJ45hzU6x_VJ"
      },
      "execution_count": null,
      "outputs": []
    }
  ]
}